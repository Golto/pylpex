{
 "cells": [
  {
   "cell_type": "code",
   "execution_count": 5,
   "id": "65043546",
   "metadata": {},
   "outputs": [],
   "source": [
    "from src.utils import tokenize, parse, evaluate, format_ast"
   ]
  },
  {
   "cell_type": "code",
   "execution_count": 6,
   "id": "5e96daf7",
   "metadata": {},
   "outputs": [
    {
     "name": "stdout",
     "output_type": "stream",
     "text": [
      "3\n"
     ]
    }
   ],
   "source": [
    "\n",
    "code = \"\"\"\n",
    "function f(a, b) {\n",
    "    return a + b\n",
    "}\n",
    "array = [f]\n",
    "array[0](1, 2)\n",
    "\"\"\"\n",
    "\n",
    "result = evaluate(code)\n",
    "print(result)"
   ]
  },
  {
   "cell_type": "code",
   "execution_count": 7,
   "id": "5c454876",
   "metadata": {},
   "outputs": [
    {
     "name": "stdout",
     "output_type": "stream",
     "text": [
      "120\n"
     ]
    }
   ],
   "source": [
    "with open(\"tests/evaluator/function.txt\", \"r\") as f:\n",
    "    code = f.read()\n",
    "\n",
    "result = evaluate(code)\n",
    "print(result)\n"
   ]
  },
  {
   "cell_type": "code",
   "execution_count": 10,
   "id": "da03bc5e",
   "metadata": {},
   "outputs": [
    {
     "name": "stdout",
     "output_type": "stream",
     "text": [
      "------------------------------------------------\n",
      "[1, 2, 3][1]\n",
      "\tResult:    2\n",
      "\tExpected:  2\n",
      "\tCorrect:  ✅\n",
      "------------------------------------------------\n",
      "{ 'a': 1, 'b': 2, 'c': 3 }['b']\n",
      "\tResult:    2\n",
      "\tExpected:  2\n",
      "\tCorrect:  ✅\n",
      "------------------------------------------------\n",
      "name = 'John'; name[1]\n",
      "\tResult:    o\n",
      "\tExpected:  o\n",
      "\tCorrect:  ✅\n",
      "------------------------------------------------\n",
      "array = [1, 2, 3, 4, 5]; array[1.2]\n",
      "\tError:     Erreur à la ligne 1, colonne 31: Les indices de liste doivent être des entiers, pas 'float'\n",
      "\tExpected:  Error: Les indices de liste doivent être des entiers\n",
      "\tCorrect:  ✅\n",
      "------------------------------------------------\n",
      "array = [1, 2, 3, 4, 5]; array[15]\n",
      "\tError:     Erreur à la ligne 1, colonne 31: Index de liste hors limites: 15 (longueur: 5)\n",
      "\tExpected:  Error: Index de liste hors limites\n",
      "\tCorrect:  ✅\n",
      "------------------------------------------------\n",
      "array = [1, 2, 3, 4, 5]; array[-1]\n",
      "\tResult:    5\n",
      "\tExpected:  5\n",
      "\tCorrect:  ✅\n",
      "------------------------------------------------\n",
      "array = [1, 2, 3, 4, 5]; array[-6]\n",
      "\tError:     Erreur à la ligne 1, colonne 31: Index de liste hors limites: -6 (longueur: 5)\n",
      "\tExpected:  Error: Index de liste hors limites\n",
      "\tCorrect:  ✅\n",
      "------------------------------------------------\n",
      "mapping = { 'a': 1, 'b': 2, 'c': 3 }; mapping['d']\n",
      "\tError:     Erreur à la ligne 1, colonne 46: Clé 'd' introuvable dans le dictionnaire\n",
      "\tExpected:  Error: Clé 'd' introuvable dans le dictionnaire\n",
      "\tCorrect:  ✅\n",
      "------------------------------------------------\n",
      "name = 'John'; name[1.2]\n",
      "\tError:     Erreur à la ligne 1, colonne 20: Les indices de chaîne doivent être des entiers, pas 'float'\n",
      "\tExpected:  Error: Les indices de chaîne doivent être des entiers\n",
      "\tCorrect:  ✅\n",
      "------------------------------------------------\n",
      "name = 'John'; name[10]\n",
      "\tError:     Erreur à la ligne 1, colonne 20: Index de chaîne hors limites: 10 (longueur: 4)\n",
      "\tExpected:  Error: Index de chaîne hors limites\n",
      "\tCorrect:  ✅\n",
      "------------------------------------------------\n",
      "name = 'John'; name[-1]\n",
      "\tResult:    n\n",
      "\tExpected:  n\n",
      "\tCorrect:  ✅\n",
      "------------------------------------------------\n",
      "name = 'John'; name[-5]\n",
      "\tError:     Erreur à la ligne 1, colonne 20: Index de chaîne hors limites: -5 (longueur: 4)\n",
      "\tExpected:  Error: Index de chaîne hors limites\n",
      "\tCorrect:  ✅\n",
      "------------------------------------------------\n",
      "x = 1245; x[1]\n",
      "\tError:     Erreur à la ligne 1, colonne 12: Le type 'int' ne supporte pas l'indexation\n",
      "\tExpected:  Error: ne supporte pas l'indexation\n",
      "\tCorrect:  ✅\n"
     ]
    }
   ],
   "source": [
    "from tests.evaluator.unit_tests import get_test_cases, run_tests\n",
    "\n",
    "tests = get_test_cases(\"indexing\")\n",
    "run_tests(tests)\n",
    "    "
   ]
  }
 ],
 "metadata": {
  "kernelspec": {
   "display_name": "interpreter (3.13.5)",
   "language": "python",
   "name": "python3"
  },
  "language_info": {
   "codemirror_mode": {
    "name": "ipython",
    "version": 3
   },
   "file_extension": ".py",
   "mimetype": "text/x-python",
   "name": "python",
   "nbconvert_exporter": "python",
   "pygments_lexer": "ipython3",
   "version": "3.13.5"
  }
 },
 "nbformat": 4,
 "nbformat_minor": 5
}

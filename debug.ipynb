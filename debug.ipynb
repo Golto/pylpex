{
 "cells": [
  {
   "cell_type": "code",
   "execution_count": 1,
   "id": "00dae322",
   "metadata": {},
   "outputs": [
    {
     "name": "stdout",
     "output_type": "stream",
     "text": [
      "Token(type=<TokenType.INTEGER>, value='123', line=1, column=1)\n"
     ]
    }
   ],
   "source": [
    "from src.lexer.tokens import Token, TokenType\n",
    "\n",
    "token = Token(type=TokenType.INTEGER, value=\"123\", line=1, column=1)\n",
    "print(token)"
   ]
  }
 ],
 "metadata": {
  "kernelspec": {
   "display_name": "interpreter (3.13.5)",
   "language": "python",
   "name": "python3"
  },
  "language_info": {
   "codemirror_mode": {
    "name": "ipython",
    "version": 3
   },
   "file_extension": ".py",
   "mimetype": "text/x-python",
   "name": "python",
   "nbconvert_exporter": "python",
   "pygments_lexer": "ipython3",
   "version": "3.13.5"
  }
 },
 "nbformat": 4,
 "nbformat_minor": 5
}

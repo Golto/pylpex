{
 "cells": [
  {
   "cell_type": "code",
   "execution_count": 5,
   "id": "03062ab2",
   "metadata": {},
   "outputs": [
    {
     "name": "stdout",
     "output_type": "stream",
     "text": [
      "// Commentaire\n",
      "/*\n",
      "    Multi-line\n",
      "    comment\n",
      "*/\n",
      "123 4.7\n",
      "\"hello world\" \"hello \\nworld\"\n",
      "x some_variable\n",
      "none not and or true false function return if else for while\n",
      "== != <= >= **\n",
      "+ - * / % = < > ( ) { } [ ] , ; : .\n",
      "+= -= *= /= %= **=\n"
     ]
    }
   ],
   "source": [
    "from src.lexer import Lexer, TokenType\n",
    "\n",
    "with open(\"tests/lexer.txt\", \"r\") as f:\n",
    "    code = f.read()\n",
    "    \n",
    "print(code)"
   ]
  },
  {
   "cell_type": "code",
   "execution_count": 6,
   "id": "7379971d",
   "metadata": {},
   "outputs": [],
   "source": [
    "code = \"4. 1.2\""
   ]
  },
  {
   "cell_type": "code",
   "execution_count": 7,
   "id": "912f22f8",
   "metadata": {},
   "outputs": [
    {
     "name": "stdout",
     "output_type": "stream",
     "text": [
      "Token(type=<TokenType.FLOAT>, value='4.', line=1, column=1)\n",
      "Token(type=<TokenType.FLOAT>, value='1.2', line=1, column=4)\n",
      "Token(type=<TokenType.EOF>, value='', line=1, column=7)\n"
     ]
    }
   ],
   "source": [
    "lexer = Lexer(code)\n",
    "tokens = lexer.tokenize()\n",
    "for token in tokens:\n",
    "    if token.type == TokenType.NEWLINE:\n",
    "        print(\"\\n\")\n",
    "        continue\n",
    "    print(token)"
   ]
  }
 ],
 "metadata": {
  "kernelspec": {
   "display_name": "interpreter (3.13.5)",
   "language": "python",
   "name": "python3"
  },
  "language_info": {
   "codemirror_mode": {
    "name": "ipython",
    "version": 3
   },
   "file_extension": ".py",
   "mimetype": "text/x-python",
   "name": "python",
   "nbconvert_exporter": "python",
   "pygments_lexer": "ipython3",
   "version": "3.13.5"
  }
 },
 "nbformat": 4,
 "nbformat_minor": 5
}

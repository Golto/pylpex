{
 "cells": [
  {
   "cell_type": "code",
   "execution_count": 1,
   "id": "2dd8d307",
   "metadata": {},
   "outputs": [],
   "source": [
    "from src.lexer import Lexer\n",
    "from src.parser import Parser\n",
    "from src.parser.utils import ast_print, asdict"
   ]
  },
  {
   "cell_type": "code",
   "execution_count": 2,
   "id": "89cc0b26",
   "metadata": {},
   "outputs": [
    {
     "name": "stdout",
     "output_type": "stream",
     "text": [
      "NoneNode()\n",
      "NumberNode(value=5, type=NumberType.INTEGER)\n",
      "NumberNode(value=4.69, type=NumberType.FLOAT)\n",
      "StringNode(value='hello world')\n",
      "BooleanNode(value=True)\n",
      "BooleanNode(value=False)\n",
      "IdentifierNode(name='x')\n"
     ]
    }
   ],
   "source": [
    "primitives = [\"none\", \"5\", \"4.69\", \"'hello world'\", \"true\", \"false\", \"x\"]\n",
    "for primitive in primitives:\n",
    "    lexer = Lexer(primitive)\n",
    "    tokens = lexer.tokenize()\n",
    "    parser = Parser(tokens)\n",
    "    node = parser.parse_primary()\n",
    "    print(node)"
   ]
  },
  {
   "cell_type": "markdown",
   "id": "c2016b99",
   "metadata": {},
   "source": [
    "---"
   ]
  },
  {
   "cell_type": "code",
   "execution_count": 3,
   "id": "7075f988",
   "metadata": {},
   "outputs": [
    {
     "name": "stdout",
     "output_type": "stream",
     "text": [
      "IndexNode(collection=IdentifierNode(name='some_list'), index=NumberNode(value=0, type=NumberType.INTEGER))\n",
      "IndexNode(collection=IndexNode(collection=IdentifierNode(name='x'), index=NumberNode(value=0, type=NumberType.INTEGER)), index=NumberNode(value=1, type=NumberType.INTEGER))\n",
      "IndexNode(collection=IdentifierNode(name='x'), index=IdentifierNode(name='index'))\n",
      "UnaryOpNode(operator=UnaryOperatorType.NOT, operand=BooleanNode(value=True))\n",
      "UnaryOpNode(operator=UnaryOperatorType.NEGATIVE, operand=NumberNode(value=3, type=NumberType.INTEGER))\n",
      "UnaryOpNode(operator=UnaryOperatorType.POSITIVE, operand=NumberNode(value=2.78, type=NumberType.FLOAT))\n",
      "AttributeNode(object=IdentifierNode(name='human'), attribute='name')\n",
      "AttributeNode(object=AttributeNode(object=IdentifierNode(name='node'), attribute='value'), attribute='type')\n",
      "UnaryOpNode(operator=UnaryOperatorType.NEGATIVE, operand=AttributeNode(object=IndexNode(collection=AttributeNode(object=IdentifierNode(name='human'), attribute='friends'), index=NumberNode(value=2, type=NumberType.INTEGER)), attribute='age'))\n"
     ]
    }
   ],
   "source": [
    "lines = [\n",
    "    \"some_list[0]\", \"x[0][1]\", \"x[index]\", # postfixes\n",
    "    \"not true\", \"-3\", \"+2.78\", # unary operators\n",
    "    \"human.name\", \"node.value.type\", # attributes\n",
    "    \"- human.friends[2].age\", # mixed up\n",
    "]\n",
    "for code in lines:\n",
    "    lexer = Lexer(code)\n",
    "    tokens = lexer.tokenize()\n",
    "    parser = Parser(tokens)\n",
    "    node = parser.parse_unary_or_primary()\n",
    "    print(node)"
   ]
  },
  {
   "cell_type": "markdown",
   "id": "a1a9fa00",
   "metadata": {},
   "source": [
    "---"
   ]
  },
  {
   "cell_type": "code",
   "execution_count": 4,
   "id": "0d0945e0",
   "metadata": {},
   "outputs": [
    {
     "name": "stdout",
     "output_type": "stream",
     "text": [
      "NumberNode(value=5, type=NumberType.INTEGER)\n",
      "UnaryOpNode(operator=UnaryOperatorType.NEGATIVE, operand=UnaryOpNode(operator=UnaryOperatorType.NEGATIVE, operand=NumberNode(value=5, type=NumberType.INTEGER)))\n",
      "ListNode(elements=[NumberNode(value=1, type=NumberType.INTEGER), NumberNode(value=2, type=NumberType.INTEGER), NumberNode(value=3, type=NumberType.INTEGER)])\n",
      "ListNode(elements=[StringNode(value='a'), StringNode(value='b'), StringNode(value='c')])\n",
      "DictionaryNode(pairs=[(StringNode(value='a'), NumberNode(value=1, type=NumberType.INTEGER)), (StringNode(value='b'), NumberNode(value=2, type=NumberType.INTEGER))])\n"
     ]
    }
   ],
   "source": [
    "expressions = [\n",
    "    \"5\", \" - (- 5)\",\n",
    "    \"[1, 2, 3]\", \"['a', 'b', 'c']\",\n",
    "    \"{'a': 1, 'b': 2}\",\n",
    "]\n",
    "for code in expressions:\n",
    "    lexer = Lexer(code)\n",
    "    tokens = lexer.tokenize()\n",
    "    parser = Parser(tokens)\n",
    "    node = parser.parse_expression()\n",
    "    print(node)"
   ]
  },
  {
   "cell_type": "markdown",
   "id": "96789964",
   "metadata": {},
   "source": [
    "---"
   ]
  },
  {
   "cell_type": "code",
   "execution_count": 5,
   "id": "03062ab2",
   "metadata": {},
   "outputs": [
    {
     "name": "stdout",
     "output_type": "stream",
     "text": [
      "// literals\n",
      "none\n",
      "5\n",
      "4.69\n",
      "'hello world'\n",
      "true\n",
      "false\n",
      "some_variable\n",
      "\n",
      "// unary operations\n",
      "-7\n",
      "+4.5\n",
      "not true\n",
      "\n",
      "// postfixes (indexing, attributes)\n",
      "some_list[47]\n",
      "other_list[pre_index][post_index]\n",
      "\n",
      "human.name\n",
      "node.value.type\n",
      "\n",
      "// mixed up\n",
      "- human.friends[2].age\n",
      "\n",
      "// lists\n",
      "[1, 2, 3]\n",
      "['a', 'b', 'c']\n",
      "[1, 2, 3, [4, 5, 6]]\n",
      "\n",
      "// dictionaries\n",
      "{'a': 1, 'b': 2}\n",
      "{'a': 1, 'b': 2, 'c': {'d': 3, 'e': 4}}\n"
     ]
    }
   ],
   "source": [
    "with open(\"tests/parser/expressions.txt\", \"r\") as f:\n",
    "    code = f.read()\n",
    "    \n",
    "print(code)"
   ]
  },
  {
   "cell_type": "code",
   "execution_count": 6,
   "id": "912f22f8",
   "metadata": {},
   "outputs": [
    {
     "name": "stdout",
     "output_type": "stream",
     "text": [
      "NoneNode()\n",
      "NumberNode(value=5, type=NumberType.INTEGER)\n",
      "NumberNode(value=4.69, type=NumberType.FLOAT)\n",
      "StringNode(value='hello world')\n",
      "BooleanNode(value=True)\n",
      "BooleanNode(value=False)\n",
      "IdentifierNode(name='some_variable')\n",
      "UnaryOpNode(operator=UnaryOperatorType.NEGATIVE, operand=NumberNode(value=7, type=NumberType.INTEGER))\n",
      "UnaryOpNode(operator=UnaryOperatorType.POSITIVE, operand=NumberNode(value=4.5, type=NumberType.FLOAT))\n",
      "UnaryOpNode(operator=UnaryOperatorType.NOT, operand=BooleanNode(value=True))\n",
      "IndexNode(collection=IdentifierNode(name='some_list'), index=NumberNode(value=47, type=NumberType.INTEGER))\n",
      "IndexNode(collection=IndexNode(collection=IdentifierNode(name='other_list'), index=IdentifierNode(name='pre_index')), index=IdentifierNode(name='post_index'))\n",
      "AttributeNode(object=IdentifierNode(name='human'), attribute='name')\n",
      "AttributeNode(object=AttributeNode(object=IdentifierNode(name='node'), attribute='value'), attribute='type')\n",
      "UnaryOpNode(operator=UnaryOperatorType.NEGATIVE, operand=AttributeNode(object=IndexNode(collection=AttributeNode(object=IdentifierNode(name='human'), attribute='friends'), index=NumberNode(value=2, type=NumberType.INTEGER)), attribute='age'))\n",
      "ListNode(elements=[NumberNode(value=1, type=NumberType.INTEGER), NumberNode(value=2, type=NumberType.INTEGER), NumberNode(value=3, type=NumberType.INTEGER)])\n",
      "ListNode(elements=[StringNode(value='a'), StringNode(value='b'), StringNode(value='c')])\n",
      "ListNode(elements=[NumberNode(value=1, type=NumberType.INTEGER), NumberNode(value=2, type=NumberType.INTEGER), NumberNode(value=3, type=NumberType.INTEGER), ListNode(elements=[NumberNode(value=4, type=NumberType.INTEGER), NumberNode(value=5, type=NumberType.INTEGER), NumberNode(value=6, type=NumberType.INTEGER)])])\n",
      "DictionaryNode(pairs=[(StringNode(value='a'), NumberNode(value=1, type=NumberType.INTEGER)), (StringNode(value='b'), NumberNode(value=2, type=NumberType.INTEGER))])\n",
      "DictionaryNode(pairs=[(StringNode(value='a'), NumberNode(value=1, type=NumberType.INTEGER)), (StringNode(value='b'), NumberNode(value=2, type=NumberType.INTEGER)), (StringNode(value='c'), DictionaryNode(pairs=[(StringNode(value='d'), NumberNode(value=3, type=NumberType.INTEGER)), (StringNode(value='e'), NumberNode(value=4, type=NumberType.INTEGER))]))])\n"
     ]
    }
   ],
   "source": [
    "lexer = Lexer(code)\n",
    "tokens = lexer.tokenize()\n",
    "\n",
    "parser = Parser(tokens)\n",
    "ast = parser.parse()\n",
    "for stmt in ast.statements:\n",
    "    print(stmt)"
   ]
  }
 ],
 "metadata": {
  "kernelspec": {
   "display_name": "interpreter (3.13.5)",
   "language": "python",
   "name": "python3"
  },
  "language_info": {
   "codemirror_mode": {
    "name": "ipython",
    "version": 3
   },
   "file_extension": ".py",
   "mimetype": "text/x-python",
   "name": "python",
   "nbconvert_exporter": "python",
   "pygments_lexer": "ipython3",
   "version": "3.13.5"
  }
 },
 "nbformat": 4,
 "nbformat_minor": 5
}
